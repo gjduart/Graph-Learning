{
  "nbformat": 4,
  "nbformat_minor": 0,
  "metadata": {
    "colab": {
      "provenance": [],
      "collapsed_sections": [],
      "include_colab_link": true
    },
    "kernelspec": {
      "name": "python3",
      "display_name": "Python 3"
    }
  },
  "cells": [
    {
      "cell_type": "markdown",
      "metadata": {
        "id": "view-in-github",
        "colab_type": "text"
      },
      "source": [
        "<a href=\"https://colab.research.google.com/github/gjduart/Graph-Learning/blob/main/EXPLICANDO_GCN.ipynb\" target=\"_parent\"><img src=\"https://colab.research.google.com/assets/colab-badge.svg\" alt=\"Open In Colab\"/></a>"
      ]
    },
    {
      "cell_type": "markdown",
      "metadata": {
        "id": "jM_Mgq7h-3rP"
      },
      "source": [
        "EXPLICANDO GCN\n"
      ]
    },
    {
      "cell_type": "code",
      "metadata": {
        "colab": {
          "base_uri": "https://localhost:8080/",
          "height": 455
        },
        "id": "qZIXCmpS-2wR",
        "outputId": "fca81b97-252a-4d51-cec9-aa5832d69d1d"
      },
      "source": [
        "import networkx as nx\n",
        "import numpy as np\n",
        "import matplotlib.pyplot as plt\n",
        "from scipy.linalg import fractional_matrix_power\n",
        "\n",
        "import warnings\n",
        "warnings.filterwarnings(\"ignore\", category=UserWarning)\n",
        "\n",
        "\n",
        "#Inicializando o Grafo G =(V,E)\n",
        "G = nx.Graph(name='G')\n",
        "\n",
        "#Criando os nos\n",
        "#Nesse exemplo o Grafo vai consistir em 6 nis\n",
        "#A cada nó é atribuído a um recurso de nó que corresponde ao nome do nó\n",
        "for i in range(6):\n",
        "    G.add_node(i, name=i)\n",
        "\n",
        "\n",
        "#Definindo as arestas do grafo\n",
        "edges = [(0,1),(0,2),(1,2),(0,3),(3,4),(3,5),(4,5)]\n",
        "G.add_edges_from(edges)\n",
        "\n",
        "#Informacoes do grafo\n",
        "print('Graph Info:\\n', nx.info(G))\n",
        "\n",
        "#Conferindo os nos\n",
        "print('\\nGraph Nodes: ', G.nodes.data())\n",
        "\n",
        "#Plotando o grafo\n",
        "nx.draw(G, with_labels=True, font_weight='bold')\n",
        "plt.show()"
      ],
      "execution_count": null,
      "outputs": [
        {
          "output_type": "stream",
          "text": [
            "Graph Info:\n",
            " Name: G\n",
            "Type: Graph\n",
            "Number of nodes: 6\n",
            "Number of edges: 7\n",
            "Average degree:   2.3333\n",
            "\n",
            "Graph Nodes:  [(0, {'name': 0}), (1, {'name': 1}), (2, {'name': 2}), (3, {'name': 3}), (4, {'name': 4}), (5, {'name': 5})]\n"
          ],
          "name": "stdout"
        },
        {
          "output_type": "display_data",
          "data": {
            "image/png": "[encoded data removed]",
            "text/plain": [
              "<Figure size 432x288 with 1 Axes>"
            ]
          },
          "metadata": {
            "tags": []
          }
        }
      ]
    },
    {
      "cell_type": "markdown",
      "metadata": {
        "id": "3Vfhuo3MGcgW"
      },
      "source": [
        "# SELF LOOPS"
      ]
    },
    {
      "cell_type": "code",
      "metadata": {
        "colab": {
          "base_uri": "https://localhost:8080/"
        },
        "id": "807Opa-v_sXc",
        "outputId": "00e9bb51-110a-4cfc-d55a-0c1a296fce25"
      },
      "source": [
        "# Pegando a matriz de Adjacencia A e a Matriz de Features e transformando numa matriz numpy\n",
        "A = np.array(nx.attr_matrix(G, node_attr='name')[0])\n",
        "X = np.array(nx.attr_matrix(G, node_attr='name')[1])\n",
        "X = np.expand_dims(X,axis=1)\n",
        "\n",
        "print('Shape de A: ', A.shape)\n",
        "print('\\nShape de X: ', X.shape)\n",
        "print('\\nMatriz de Adjacencia (A):\\n', A)\n",
        "print('\\nMatriz de Features dos Nos (X):\\n', X)"
      ],
      "execution_count": null,
      "outputs": [
        {
          "output_type": "stream",
          "text": [
            "Shape de A:  (6, 6)\n",
            "\n",
            "Shape de X:  (6, 1)\n",
            "\n",
            "Matriz de Adjacencia (A):\n",
            " [[0. 1. 1. 1. 0. 0.]\n",
            " [1. 0. 1. 0. 0. 0.]\n",
            " [1. 1. 0. 0. 0. 0.]\n",
            " [1. 0. 0. 0. 1. 1.]\n",
            " [0. 0. 0. 1. 0. 1.]\n",
            " [0. 0. 0. 1. 1. 0.]]\n",
            "\n",
            "Matriz de Features dos Nos (X):\n",
            " [[0]\n",
            " [1]\n",
            " [2]\n",
            " [3]\n",
            " [4]\n",
            " [5]]\n"
          ],
          "name": "stdout"
        }
      ]
    },
    {
      "cell_type": "code",
      "metadata": {
        "colab": {
          "base_uri": "https://localhost:8080/"
        },
        "id": "QZosN_-tANjO",
        "outputId": "90778b3f-5eee-46af-ebe7-f32c3c7ff81f"
      },
      "source": [
        "\n",
        "AX = np.dot(A,X)\n",
        "print(\"Dot product of A and X (AX):\\n\", AX)"
      ],
      "execution_count": null,
      "outputs": [
        {
          "output_type": "stream",
          "text": [
            "Dot product of A and X (AX):\n",
            " [[6.]\n",
            " [2.]\n",
            " [1.]\n",
            " [9.]\n",
            " [8.]\n",
            " [7.]]\n"
          ],
          "name": "stdout"
        }
      ]
    },
    {
      "cell_type": "markdown",
      "metadata": {
        "id": "z5funWmKF0Eo"
      },
      "source": [
        "AX representa a soma das características dos nós vizinhos . Por exemplo, a primeira linha de AX corresponde à soma dos recursos dos nós conectados ao nó 0, que são os nós 1, 2 e 3. Isso nos dá uma ideia de como o mecanismo de propagação está acontecendo nos GCNs e como a conectividade do nó afeta o representação de recursos ocultos vistos por GCNs."
      ]
    },
    {
      "cell_type": "markdown",
      "metadata": {
        "id": "IB0ZuOR5BAlO"
      },
      "source": [
        "\\begin{equation}\n",
        "\n",
        "AX = \n",
        "\n",
        "\\begin{bmatrix}\n",
        "0 & 1 & 1 & 1 & 0 & 0 \\\\\n",
        "1 & 0 & 1 & 0 & 0 & 0 \\\\\n",
        "1 & 1 & 0 & 0 & 0 & 0 \\\\\n",
        "1 & 0 & 0 & 0 & 1 & 1 \\\\\n",
        "0 & 0 & 0 & 1 & 0 & 1 \\\\\n",
        "0 & 0 & 0 & 1 & 1 & 0 \n",
        "\\end{bmatrix}\n",
        "\\begin{bmatrix}\n",
        "0 \\\\\n",
        "1\\\\\n",
        "2 \\\\ \n",
        "3 \\\\ \n",
        "4  \\\\\n",
        "5 \n",
        "\\end{bmatrix}\n",
        " = \n",
        "\n",
        "\n",
        "\\begin{bmatrix}\n",
        "6\\\\\n",
        "2\\\\\n",
        "1\\\\\n",
        "9\\\\\n",
        "8\\\\\n",
        "7\n",
        "\\end{bmatrix}\n",
        "\n",
        "\\end{equation}"
      ]
    },
    {
      "cell_type": "code",
      "metadata": {
        "colab": {
          "base_uri": "https://localhost:8080/"
        },
        "id": "0HIq1V_RAuad",
        "outputId": "219de292-519d-461f-e02f-01bb9bafb7c4"
      },
      "source": [
        "#Adicionando self lops\n",
        "G_self_loops = G.copy()\n",
        "\n",
        "self_loops = []\n",
        "for i in range(G.number_of_nodes()):\n",
        "    self_loops.append((i,i))\n",
        "\n",
        "G_self_loops.add_edges_from(self_loops)\n",
        "\n",
        "#Checando as arestas depois de adicionar os self Loops\n",
        "print('Arestas de G com self-loops:\\n', G_self_loops.edges)\n",
        "\n",
        "#Matriz de Adjacencia e Matriz de Features com os self loops\n",
        "A_hat = np.array(nx.attr_matrix(G_self_loops, node_attr='name')[0])\n",
        "print('Matriz de Adjacência de auto-loops G adicionados (A_hat):\\n', A_hat)\n",
        "\n",
        "#Calculando o Produto de A_hat e X\n",
        "AX = np.dot(A_hat, X)\n",
        "print('AX:\\n', AX)\n"
      ],
      "execution_count": null,
      "outputs": [
        {
          "output_type": "stream",
          "text": [
            "Arestas de G com self-loops:\n",
            " [(0, 1), (0, 2), (0, 3), (0, 0), (1, 2), (1, 1), (2, 2), (3, 4), (3, 5), (3, 3), (4, 5), (4, 4), (5, 5)]\n",
            "Matriz de Adjacência de auto-loops G adicionados (A_hat):\n",
            " [[1. 1. 1. 1. 0. 0.]\n",
            " [1. 1. 1. 0. 0. 0.]\n",
            " [1. 1. 1. 0. 0. 0.]\n",
            " [1. 0. 0. 1. 1. 1.]\n",
            " [0. 0. 0. 1. 1. 1.]\n",
            " [0. 0. 0. 1. 1. 1.]]\n",
            "AX:\n",
            " [[ 6.]\n",
            " [ 3.]\n",
            " [ 3.]\n",
            " [12.]\n",
            " [12.]\n",
            " [12.]]\n"
          ],
          "name": "stdout"
        }
      ]
    },
    {
      "cell_type": "markdown",
      "metadata": {
        "id": "upPomDO_Dvyf"
      },
      "source": [
        "\\begin{equation*}\n",
        "\n",
        "\\hat{A}X = \n",
        "\\begin{bmatrix}\n",
        "1 & 1 & 1 & 1 & 0 & 0 \\\\\n",
        "1 & 1 & 1 & 0 & 0 & 0 \\\\\n",
        "1 & 1 & 1 & 0 & 0 & 0 \\\\\n",
        "1 & 0 & 0 & 1 & 1 & 1 \\\\\n",
        "0 & 0 & 0 & 1 & 1 & 1 \\\\\n",
        "0 & 0 & 0 & 1 & 1 & 1\n",
        "\\end{bmatrix}\n",
        "\n",
        " \n",
        "\\begin{bmatrix}\n",
        "0 \\\\\n",
        "1\\\\\n",
        "2 \\\\ \n",
        "3 \\\\ \n",
        "4  \\\\\n",
        "5 \n",
        "\\end{bmatrix}\n",
        " = \n",
        "\n",
        "\n",
        "\\begin{bmatrix}\n",
        "6\\\\\n",
        "3\\\\\n",
        "3\\\\\n",
        "12\\\\\n",
        "12\\\\\n",
        "12\n",
        "\\end{bmatrix}\n",
        "\n",
        "\\end{equation*}"
      ]
    },
    {
      "cell_type": "markdown",
      "metadata": {
        "id": "RKQPm3n4GYH_"
      },
      "source": [
        "# NORMALIZACAO\n"
      ]
    },
    {
      "cell_type": "markdown",
      "metadata": {
        "id": "ixB8MioUG3fC"
      },
      "source": [
        "Features Normalizadas = $D^{-1} AX$ <br >\n",
        "tendo D como : Matriz de Graus\n"
      ]
    },
    {
      "cell_type": "code",
      "metadata": {
        "colab": {
          "base_uri": "https://localhost:8080/"
        },
        "id": "WPakYRzZHSW9",
        "outputId": "e9fa1655-35f1-4fbc-aa6c-761a28c4d2f3"
      },
      "source": [
        "#Vamos ter a matriz de grau do nosso grafo G com self Loops\n",
        "Deg_Mat = G_self_loops.degree()\n",
        "print('Matriz de Grau (D): ', Deg_Mat)\n",
        "\n",
        "\n",
        "#Converter a matriz de grau para uma matriz NxN onde N e o numero de Nos\n",
        "D = np.diag([deg for (n,deg) in list(Deg_Mat)])\n",
        "print('Matriz de Grau NxN (D):\\n', D)\n",
        "\n",
        "#Calculando o Inverso da matriz de grau\n",
        "D_inv = np.linalg.inv(D)\n",
        "print('Inverso da matriz de grau D:\\n', D_inv)\n",
        "\n",
        "#realizando produto para normalizacao\n",
        "DAX = np.dot(D_inv,AX)\n",
        "print('DAX:\\n', DAX)"
      ],
      "execution_count": null,
      "outputs": [
        {
          "output_type": "stream",
          "text": [
            "Matriz de Grau (D):  [(0, 5), (1, 4), (2, 4), (3, 5), (4, 4), (5, 4)]\n",
            "Matriz de Grau NxN (D):\n",
            " [[5 0 0 0 0 0]\n",
            " [0 4 0 0 0 0]\n",
            " [0 0 4 0 0 0]\n",
            " [0 0 0 5 0 0]\n",
            " [0 0 0 0 4 0]\n",
            " [0 0 0 0 0 4]]\n",
            "Inverso da matriz de grau D:\n",
            " [[0.2  0.   0.   0.   0.   0.  ]\n",
            " [0.   0.25 0.   0.   0.   0.  ]\n",
            " [0.   0.   0.25 0.   0.   0.  ]\n",
            " [0.   0.   0.   0.2  0.   0.  ]\n",
            " [0.   0.   0.   0.   0.25 0.  ]\n",
            " [0.   0.   0.   0.   0.   0.25]]\n",
            "DAX:\n",
            " [[1.2 ]\n",
            " [0.75]\n",
            " [0.75]\n",
            " [2.4 ]\n",
            " [3.  ]\n",
            " [3.  ]]\n"
          ],
          "name": "stdout"
        }
      ]
    },
    {
      "cell_type": "markdown",
      "metadata": {
        "id": "PeP3OEBuI3Gw"
      },
      "source": [
        "Normalizacao = $D^{-1} AX$ <br > mudar para <br > Normalizacao = $D^{-(\\frac{1}{2})} A D^{-(\\frac{1}{2})} $"
      ]
    },
    {
      "cell_type": "code",
      "metadata": {
        "colab": {
          "base_uri": "https://localhost:8080/"
        },
        "id": "XfFlJghQJZPN",
        "outputId": "92c19cb1-9123-44b4-8e90-8cced9f577f6"
      },
      "source": [
        "D_half_norm = fractional_matrix_power(D, -0.5)\n",
        "DADX = D_half_norm.dot(A_hat).dot(D_half_norm).dot(X)\n",
        "print('DADX:\\n', DADX)"
      ],
      "execution_count": null,
      "outputs": [
        {
          "output_type": "stream",
          "text": [
            "DADX:\n",
            " [[1.27082039]\n",
            " [0.75      ]\n",
            " [0.75      ]\n",
            " [2.61246118]\n",
            " [2.92082039]\n",
            " [2.92082039]]\n"
          ],
          "name": "stdout"
        }
      ]
    },
    {
      "cell_type": "code",
      "metadata": {
        "colab": {
          "base_uri": "https://localhost:8080/"
        },
        "id": "fbQ3u5UFKJsw",
        "outputId": "b752f609-3a8d-4b0e-80fe-a79c5a790888"
      },
      "source": [
        "#Inicializando os pesos\n",
        "np.random.seed(77777)\n",
        "n_h = 4 #numero de neuronios nas camadas ocultas\n",
        "n_y = 2 #numero de neuronios na camada de saida\n",
        "W0 = np.random.randn(X.shape[1],n_h) * 0.01\n",
        "W1 = np.random.randn(n_h,n_y) * 0.01\n",
        "\n",
        "#Funcao de ativacao relu\n",
        "def relu(x):\n",
        "    return np.maximum(0,x)\n",
        "\n",
        "\n",
        "#GCN LAYER\n",
        "\n",
        "def gcn(A,H,W):\n",
        "    I = np.identity(A.shape[0]) #Criando a Matriz identidade de A\n",
        "    A_hat = A + I #adicionando self Loops pro A\n",
        "    D = np.diag(np.sum(A_hat, axis=0)) #Criando a Matriz diagonal de A\n",
        "    D_half_norm = fractional_matrix_power(D, -0.5) #calculate D to the power of -0.5\n",
        "    eq = D_half_norm.dot(A_hat).dot(D_half_norm).dot(H).dot(W)\n",
        "    return relu(eq)\n",
        "\n",
        "\n",
        "#Do forward propagation\n",
        "H1 = gcn(A,X,W0)\n",
        "H2 = gcn(A,H1,W1)\n",
        "print('Features Representation from GCN output:\\n', H2)"
      ],
      "execution_count": null,
      "outputs": [
        {
          "output_type": "stream",
          "text": [
            "Features Representation from GCN output:\n",
            " [[0.00027758 0.        ]\n",
            " [0.00017298 0.        ]\n",
            " [0.00017298 0.        ]\n",
            " [0.00053017 0.        ]\n",
            " [0.00054097 0.        ]\n",
            " [0.00054097 0.        ]]\n"
          ],
          "name": "stdout"
        }
      ]
    },
    {
      "cell_type": "code",
      "metadata": {
        "colab": {
          "base_uri": "https://localhost:8080/",
          "height": 295
        },
        "id": "k-Epdx1yKOQT",
        "outputId": "9b34038a-e617-4105-fd56-a62c4b729c5f"
      },
      "source": [
        "def plot_features(H2):\n",
        "    #Plot the features representation\n",
        "    x = H2[:,0]\n",
        "    y = H2[:,1]\n",
        "\n",
        "    size = 1000\n",
        "\n",
        "    plt.scatter(x,y,size)\n",
        "    plt.xlim([np.min(x)*0.9, np.max(x)*1.1])\n",
        "    plt.ylim([-1, 1])\n",
        "    plt.xlabel('Feature Representation Dimension 0')\n",
        "    plt.ylabel('Feature Representation Dimension 1')\n",
        "    plt.title('Feature Representation')\n",
        "\n",
        "    for i,row in enumerate(H2):\n",
        "        str = \"{}\".format(i)\n",
        "        plt.annotate(str, (row[0],row[1]),fontsize=18, fontweight='bold')\n",
        "\n",
        "    plt.show()\n",
        "\n",
        "\n",
        "plot_features(H2)"
      ],
      "execution_count": null,
      "outputs": [
        {
          "output_type": "display_data",
          "data": {
            "image/png": "[encoded data removed]",
            "text/plain": [
              "<Figure size 432x288 with 1 Axes>"
            ]
          },
          "metadata": {
            "tags": [],
            "needs_background": "light"
          }
        }
      ]
    }
  ]
}